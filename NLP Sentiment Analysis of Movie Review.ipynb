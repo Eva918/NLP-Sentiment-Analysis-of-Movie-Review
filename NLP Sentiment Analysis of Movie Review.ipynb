{
 "cells": [
  {
   "cell_type": "markdown",
   "id": "da467d0d",
   "metadata": {
    "id": "da467d0d"
   },
   "source": [
    "## <div align=\"center\"> LAB IS411 Data Modeling </div>\n",
    "## <div align=\"center\"> WEEK [03]: [Topic]</div>\n",
    "#### <div align=\"center\"> Even Semester 2023/2024 </div>\n",
    "---"
   ]
  },
  {
   "cell_type": "code",
   "execution_count": 3,
   "id": "YnnsVp1GQpPT",
   "metadata": {
    "id": "YnnsVp1GQpPT"
   },
   "outputs": [],
   "source": [
    "import datetime\n",
    "import uuid"
   ]
  },
  {
   "cell_type": "code",
   "execution_count": 4,
   "id": "1529afb1",
   "metadata": {
    "id": "1529afb1"
   },
   "outputs": [],
   "source": [
    "import datetime\n",
    "import uuid\n",
    "\n",
    "studentName = \"Evangeline Suciadi\"\n",
    "studentNIM = \"68887\"\n",
    "studentClass = \"BL\""
   ]
  },
  {
   "cell_type": "code",
   "execution_count": 5,
   "id": "c0fdf3fd",
   "metadata": {
    "colab": {
     "base_uri": "https://localhost:8080/"
    },
    "id": "c0fdf3fd",
    "outputId": "eb0959fc-2482-4f5f-d8f2-27fad923a679"
   },
   "outputs": [
    {
     "name": "stdout",
     "output_type": "stream",
     "text": [
      "Name: \t\tEvangeline Suciadi\n",
      "NIM: \t\t68887\n",
      "Class: \t\tBL\n",
      "Start: \t\t2024-02-16 09:44:35.601952\n",
      "Device ID: \t521e4541-cc75-11ee-8ab7-a2b1c93acab5\n"
     ]
    }
   ],
   "source": [
    "myDate = datetime.datetime.now()\n",
    "myDevice = str(uuid.uuid1())\n",
    "\n",
    "print(\"Name: \\t\\t{}\".format(studentName))\n",
    "print(\"NIM: \\t\\t{}\".format(studentNIM))\n",
    "print(\"Class: \\t\\t{}\".format(studentClass))\n",
    "print(\"Start: \\t\\t{}\".format(myDate))\n",
    "print(\"Device ID: \\t{}\".format(myDevice))"
   ]
  },
  {
   "cell_type": "markdown",
   "id": "247cf3e5",
   "metadata": {
    "id": "247cf3e5"
   },
   "source": [
    "---"
   ]
  },
  {
   "cell_type": "markdown",
   "id": "67531a34",
   "metadata": {
    "id": "67531a34"
   },
   "source": [
    "## <div align=\"center\"> Sub-title of Question (Sub-heading) </div>"
   ]
  },
  {
   "cell_type": "markdown",
   "id": "2b4f49c6",
   "metadata": {
    "id": "2b4f49c6"
   },
   "source": [
    "### Enter Lab Code Here:"
   ]
  },
  {
   "cell_type": "markdown",
   "id": "AxY0oFPcPzGs",
   "metadata": {
    "id": "AxY0oFPcPzGs"
   },
   "source": [
    "*(Give the number or each question, according to the module. If the question include a question, answer below your code with text or comment(s).)*"
   ]
  },
  {
   "cell_type": "code",
   "execution_count": 4,
   "id": "ead087fe",
   "metadata": {
    "id": "ead087fe"
   },
   "outputs": [],
   "source": [
    "import pandas as pd"
   ]
  },
  {
   "cell_type": "code",
   "execution_count": 5,
   "id": "6b3e607e",
   "metadata": {
    "id": "6b3e607e"
   },
   "outputs": [
    {
     "data": {
      "text/html": [
       "<div>\n",
       "<style scoped>\n",
       "    .dataframe tbody tr th:only-of-type {\n",
       "        vertical-align: middle;\n",
       "    }\n",
       "\n",
       "    .dataframe tbody tr th {\n",
       "        vertical-align: top;\n",
       "    }\n",
       "\n",
       "    .dataframe thead th {\n",
       "        text-align: right;\n",
       "    }\n",
       "</style>\n",
       "<table border=\"1\" class=\"dataframe\">\n",
       "  <thead>\n",
       "    <tr style=\"text-align: right;\">\n",
       "      <th></th>\n",
       "      <th>review</th>\n",
       "      <th>sentiment</th>\n",
       "    </tr>\n",
       "  </thead>\n",
       "  <tbody>\n",
       "    <tr>\n",
       "      <th>0</th>\n",
       "      <td>One of the other reviewers has mentioned that ...</td>\n",
       "      <td>positive</td>\n",
       "    </tr>\n",
       "    <tr>\n",
       "      <th>1</th>\n",
       "      <td>A wonderful little production. &lt;br /&gt;&lt;br /&gt;The...</td>\n",
       "      <td>positive</td>\n",
       "    </tr>\n",
       "    <tr>\n",
       "      <th>2</th>\n",
       "      <td>I thought this was a wonderful way to spend ti...</td>\n",
       "      <td>positive</td>\n",
       "    </tr>\n",
       "    <tr>\n",
       "      <th>3</th>\n",
       "      <td>Basically there's a family where a little boy ...</td>\n",
       "      <td>negative</td>\n",
       "    </tr>\n",
       "    <tr>\n",
       "      <th>4</th>\n",
       "      <td>Petter Mattei's \"Love in the Time of Money\" is...</td>\n",
       "      <td>positive</td>\n",
       "    </tr>\n",
       "    <tr>\n",
       "      <th>...</th>\n",
       "      <td>...</td>\n",
       "      <td>...</td>\n",
       "    </tr>\n",
       "    <tr>\n",
       "      <th>9995</th>\n",
       "      <td>Fun, entertaining movie about WWII German spy ...</td>\n",
       "      <td>positive</td>\n",
       "    </tr>\n",
       "    <tr>\n",
       "      <th>9996</th>\n",
       "      <td>Give me a break. How can anyone say that this ...</td>\n",
       "      <td>negative</td>\n",
       "    </tr>\n",
       "    <tr>\n",
       "      <th>9997</th>\n",
       "      <td>This movie is a bad movie. But after watching ...</td>\n",
       "      <td>negative</td>\n",
       "    </tr>\n",
       "    <tr>\n",
       "      <th>9998</th>\n",
       "      <td>This is a movie that was probably made to ente...</td>\n",
       "      <td>negative</td>\n",
       "    </tr>\n",
       "    <tr>\n",
       "      <th>9999</th>\n",
       "      <td>Smashing film about film-making. Shows the int...</td>\n",
       "      <td>positive</td>\n",
       "    </tr>\n",
       "  </tbody>\n",
       "</table>\n",
       "<p>10000 rows × 2 columns</p>\n",
       "</div>"
      ],
      "text/plain": [
       "                                                 review sentiment\n",
       "0     One of the other reviewers has mentioned that ...  positive\n",
       "1     A wonderful little production. <br /><br />The...  positive\n",
       "2     I thought this was a wonderful way to spend ti...  positive\n",
       "3     Basically there's a family where a little boy ...  negative\n",
       "4     Petter Mattei's \"Love in the Time of Money\" is...  positive\n",
       "...                                                 ...       ...\n",
       "9995  Fun, entertaining movie about WWII German spy ...  positive\n",
       "9996  Give me a break. How can anyone say that this ...  negative\n",
       "9997  This movie is a bad movie. But after watching ...  negative\n",
       "9998  This is a movie that was probably made to ente...  negative\n",
       "9999  Smashing film about film-making. Shows the int...  positive\n",
       "\n",
       "[10000 rows x 2 columns]"
      ]
     },
     "execution_count": 5,
     "metadata": {},
     "output_type": "execute_result"
    }
   ],
   "source": [
    "textdf = pd.read_csv('IMDB.csv')\n",
    "textdf"
   ]
  },
  {
   "cell_type": "code",
   "execution_count": 6,
   "id": "833865b2",
   "metadata": {
    "id": "833865b2"
   },
   "outputs": [
    {
     "name": "stderr",
     "output_type": "stream",
     "text": [
      "C:\\Users\\Student\\AppData\\Local\\Temp\\ipykernel_8344\\1733232086.py:2: FutureWarning: The default value of regex will change from True to False in a future version.\n",
      "  textdf['review'] = textdf['review'].str.replace(pattern, '')\n"
     ]
    }
   ],
   "source": [
    "pattern = r'[\"\\'!?\\*,;<>/()]+'\n",
    "textdf['review'] = textdf['review'].str.replace(pattern, '')"
   ]
  },
  {
   "cell_type": "code",
   "execution_count": 7,
   "id": "82c79a84",
   "metadata": {
    "id": "82c79a84"
   },
   "outputs": [],
   "source": [
    "textdf['review'] = textdf['review'].str.lower()"
   ]
  },
  {
   "cell_type": "code",
   "execution_count": 8,
   "id": "eb3127b3",
   "metadata": {
    "id": "eb3127b3",
    "scrolled": true
   },
   "outputs": [
    {
     "data": {
      "text/html": [
       "<div>\n",
       "<style scoped>\n",
       "    .dataframe tbody tr th:only-of-type {\n",
       "        vertical-align: middle;\n",
       "    }\n",
       "\n",
       "    .dataframe tbody tr th {\n",
       "        vertical-align: top;\n",
       "    }\n",
       "\n",
       "    .dataframe thead th {\n",
       "        text-align: right;\n",
       "    }\n",
       "</style>\n",
       "<table border=\"1\" class=\"dataframe\">\n",
       "  <thead>\n",
       "    <tr style=\"text-align: right;\">\n",
       "      <th></th>\n",
       "      <th>review</th>\n",
       "      <th>sentiment</th>\n",
       "    </tr>\n",
       "  </thead>\n",
       "  <tbody>\n",
       "    <tr>\n",
       "      <th>0</th>\n",
       "      <td>one of the other reviewers has mentioned that ...</td>\n",
       "      <td>positive</td>\n",
       "    </tr>\n",
       "    <tr>\n",
       "      <th>1</th>\n",
       "      <td>a wonderful little production. br br the filmi...</td>\n",
       "      <td>positive</td>\n",
       "    </tr>\n",
       "    <tr>\n",
       "      <th>2</th>\n",
       "      <td>i thought this was a wonderful way to spend ti...</td>\n",
       "      <td>positive</td>\n",
       "    </tr>\n",
       "    <tr>\n",
       "      <th>3</th>\n",
       "      <td>basically theres a family where a little boy j...</td>\n",
       "      <td>negative</td>\n",
       "    </tr>\n",
       "    <tr>\n",
       "      <th>4</th>\n",
       "      <td>petter matteis love in the time of money is a ...</td>\n",
       "      <td>positive</td>\n",
       "    </tr>\n",
       "    <tr>\n",
       "      <th>...</th>\n",
       "      <td>...</td>\n",
       "      <td>...</td>\n",
       "    </tr>\n",
       "    <tr>\n",
       "      <th>9995</th>\n",
       "      <td>fun entertaining movie about wwii german spy j...</td>\n",
       "      <td>positive</td>\n",
       "    </tr>\n",
       "    <tr>\n",
       "      <th>9996</th>\n",
       "      <td>give me a break. how can anyone say that this ...</td>\n",
       "      <td>negative</td>\n",
       "    </tr>\n",
       "    <tr>\n",
       "      <th>9997</th>\n",
       "      <td>this movie is a bad movie. but after watching ...</td>\n",
       "      <td>negative</td>\n",
       "    </tr>\n",
       "    <tr>\n",
       "      <th>9998</th>\n",
       "      <td>this is a movie that was probably made to ente...</td>\n",
       "      <td>negative</td>\n",
       "    </tr>\n",
       "    <tr>\n",
       "      <th>9999</th>\n",
       "      <td>smashing film about film-making. shows the int...</td>\n",
       "      <td>positive</td>\n",
       "    </tr>\n",
       "  </tbody>\n",
       "</table>\n",
       "<p>10000 rows × 2 columns</p>\n",
       "</div>"
      ],
      "text/plain": [
       "                                                 review sentiment\n",
       "0     one of the other reviewers has mentioned that ...  positive\n",
       "1     a wonderful little production. br br the filmi...  positive\n",
       "2     i thought this was a wonderful way to spend ti...  positive\n",
       "3     basically theres a family where a little boy j...  negative\n",
       "4     petter matteis love in the time of money is a ...  positive\n",
       "...                                                 ...       ...\n",
       "9995  fun entertaining movie about wwii german spy j...  positive\n",
       "9996  give me a break. how can anyone say that this ...  negative\n",
       "9997  this movie is a bad movie. but after watching ...  negative\n",
       "9998  this is a movie that was probably made to ente...  negative\n",
       "9999  smashing film about film-making. shows the int...  positive\n",
       "\n",
       "[10000 rows x 2 columns]"
      ]
     },
     "execution_count": 8,
     "metadata": {},
     "output_type": "execute_result"
    }
   ],
   "source": [
    "textdf"
   ]
  },
  {
   "cell_type": "markdown",
   "id": "71c77abb",
   "metadata": {},
   "source": [
    "### WORD TOKENIZATION"
   ]
  },
  {
   "cell_type": "code",
   "execution_count": 9,
   "id": "0b10efb2",
   "metadata": {},
   "outputs": [
    {
     "name": "stderr",
     "output_type": "stream",
     "text": [
      "C:\\ProgramData\\Anaconda3\\lib\\site-packages\\scipy\\__init__.py:146: UserWarning: A NumPy version >=1.16.5 and <1.23.0 is required for this version of SciPy (detected version 1.24.3\n",
      "  warnings.warn(f\"A NumPy version >={np_minversion} and <{np_maxversion}\"\n",
      "[nltk_data] Downloading package punkt to\n",
      "[nltk_data]     C:\\Users\\Student\\AppData\\Roaming\\nltk_data...\n",
      "[nltk_data]   Package punkt is already up-to-date!\n"
     ]
    },
    {
     "data": {
      "text/plain": [
       "True"
      ]
     },
     "execution_count": 9,
     "metadata": {},
     "output_type": "execute_result"
    }
   ],
   "source": [
    "import nltk\n",
    "nltk.download('punkt')"
   ]
  },
  {
   "cell_type": "code",
   "execution_count": 10,
   "id": "cd2f6722",
   "metadata": {},
   "outputs": [
    {
     "data": {
      "text/html": [
       "<div>\n",
       "<style scoped>\n",
       "    .dataframe tbody tr th:only-of-type {\n",
       "        vertical-align: middle;\n",
       "    }\n",
       "\n",
       "    .dataframe tbody tr th {\n",
       "        vertical-align: top;\n",
       "    }\n",
       "\n",
       "    .dataframe thead th {\n",
       "        text-align: right;\n",
       "    }\n",
       "</style>\n",
       "<table border=\"1\" class=\"dataframe\">\n",
       "  <thead>\n",
       "    <tr style=\"text-align: right;\">\n",
       "      <th></th>\n",
       "      <th>review</th>\n",
       "      <th>sentiment</th>\n",
       "    </tr>\n",
       "  </thead>\n",
       "  <tbody>\n",
       "    <tr>\n",
       "      <th>0</th>\n",
       "      <td>[one, of, the, other, reviewers, has, mentione...</td>\n",
       "      <td>positive</td>\n",
       "    </tr>\n",
       "    <tr>\n",
       "      <th>1</th>\n",
       "      <td>[a, wonderful, little, production, ., br, br, ...</td>\n",
       "      <td>positive</td>\n",
       "    </tr>\n",
       "    <tr>\n",
       "      <th>2</th>\n",
       "      <td>[i, thought, this, was, a, wonderful, way, to,...</td>\n",
       "      <td>positive</td>\n",
       "    </tr>\n",
       "    <tr>\n",
       "      <th>3</th>\n",
       "      <td>[basically, theres, a, family, where, a, littl...</td>\n",
       "      <td>negative</td>\n",
       "    </tr>\n",
       "    <tr>\n",
       "      <th>4</th>\n",
       "      <td>[petter, matteis, love, in, the, time, of, mon...</td>\n",
       "      <td>positive</td>\n",
       "    </tr>\n",
       "    <tr>\n",
       "      <th>...</th>\n",
       "      <td>...</td>\n",
       "      <td>...</td>\n",
       "    </tr>\n",
       "    <tr>\n",
       "      <th>9995</th>\n",
       "      <td>[fun, entertaining, movie, about, wwii, german...</td>\n",
       "      <td>positive</td>\n",
       "    </tr>\n",
       "    <tr>\n",
       "      <th>9996</th>\n",
       "      <td>[give, me, a, break, ., how, can, anyone, say,...</td>\n",
       "      <td>negative</td>\n",
       "    </tr>\n",
       "    <tr>\n",
       "      <th>9997</th>\n",
       "      <td>[this, movie, is, a, bad, movie, ., but, after...</td>\n",
       "      <td>negative</td>\n",
       "    </tr>\n",
       "    <tr>\n",
       "      <th>9998</th>\n",
       "      <td>[this, is, a, movie, that, was, probably, made...</td>\n",
       "      <td>negative</td>\n",
       "    </tr>\n",
       "    <tr>\n",
       "      <th>9999</th>\n",
       "      <td>[smashing, film, about, film-making, ., shows,...</td>\n",
       "      <td>positive</td>\n",
       "    </tr>\n",
       "  </tbody>\n",
       "</table>\n",
       "<p>10000 rows × 2 columns</p>\n",
       "</div>"
      ],
      "text/plain": [
       "                                                 review sentiment\n",
       "0     [one, of, the, other, reviewers, has, mentione...  positive\n",
       "1     [a, wonderful, little, production, ., br, br, ...  positive\n",
       "2     [i, thought, this, was, a, wonderful, way, to,...  positive\n",
       "3     [basically, theres, a, family, where, a, littl...  negative\n",
       "4     [petter, matteis, love, in, the, time, of, mon...  positive\n",
       "...                                                 ...       ...\n",
       "9995  [fun, entertaining, movie, about, wwii, german...  positive\n",
       "9996  [give, me, a, break, ., how, can, anyone, say,...  negative\n",
       "9997  [this, movie, is, a, bad, movie, ., but, after...  negative\n",
       "9998  [this, is, a, movie, that, was, probably, made...  negative\n",
       "9999  [smashing, film, about, film-making, ., shows,...  positive\n",
       "\n",
       "[10000 rows x 2 columns]"
      ]
     },
     "execution_count": 10,
     "metadata": {},
     "output_type": "execute_result"
    }
   ],
   "source": [
    "from nltk.tokenize import word_tokenize\n",
    "\n",
    "textdf['review'] = textdf['review'].apply(word_tokenize)\n",
    "\n",
    "textdf"
   ]
  },
  {
   "cell_type": "markdown",
   "id": "ebfcc6e4",
   "metadata": {},
   "source": [
    "### STOPWORD REMOVAL"
   ]
  },
  {
   "cell_type": "code",
   "execution_count": 11,
   "id": "40447b81",
   "metadata": {},
   "outputs": [],
   "source": [
    "from nltk.corpus import stopwords"
   ]
  },
  {
   "cell_type": "code",
   "execution_count": 12,
   "id": "07e1b6c5",
   "metadata": {
    "scrolled": true
   },
   "outputs": [
    {
     "data": {
      "text/plain": [
       "0       [one, reviewers, mentioned, watching, 1, oz, e...\n",
       "1       [wonderful, little, production, ., br, br, fil...\n",
       "2       [thought, wonderful, way, spend, time, hot, su...\n",
       "3       [basically, theres, family, little, boy, jake,...\n",
       "4       [petter, matteis, love, time, money, visually,...\n",
       "                              ...                        \n",
       "9995    [fun, entertaining, movie, wwii, german, spy, ...\n",
       "9996    [give, break, ., anyone, say, good, hockey, mo...\n",
       "9997    [movie, bad, movie, ., watching, endless, seri...\n",
       "9998    [movie, probably, made, entertain, middle, sch...\n",
       "9999    [smashing, film, film-making, ., shows, intens...\n",
       "Name: review, Length: 10000, dtype: object"
      ]
     },
     "execution_count": 12,
     "metadata": {},
     "output_type": "execute_result"
    }
   ],
   "source": [
    "stop_words = set(stopwords.words('english'))\n",
    "textdf['review'] = textdf['review'].apply(lambda x:[word for word in x if word.lower() not in stop_words])\n",
    "textdf['review']"
   ]
  },
  {
   "cell_type": "code",
   "execution_count": 13,
   "id": "59fca2b3",
   "metadata": {},
   "outputs": [
    {
     "data": {
      "text/plain": [
       "0       [one, reviewers, mentioned, watching, 1, oz, e...\n",
       "1       [wonderful, little, production, ., br, br, fil...\n",
       "2       [thought, wonderful, way, spend, time, hot, su...\n",
       "3       [basically, theres, family, little, boy, jake,...\n",
       "4       [petter, matteis, love, time, money, visually,...\n",
       "                              ...                        \n",
       "9995    [fun, entertaining, movie, wwii, german, spy, ...\n",
       "9996    [give, break, ., anyone, say, good, hockey, mo...\n",
       "9997    [movie, bad, movie, ., watching, endless, seri...\n",
       "9998    [movie, probably, made, entertain, middle, sch...\n",
       "9999    [smashing, film, film-making, ., shows, intens...\n",
       "Name: review, Length: 10000, dtype: object"
      ]
     },
     "execution_count": 13,
     "metadata": {},
     "output_type": "execute_result"
    }
   ],
   "source": [
    "customwords = {'br','oz','haha','lol'}\n",
    "\n",
    "textdf['review'] = textdf['review'].apply(lambda x:[word for word in x if word.lower() not in stop_words])\n",
    "textdf['review']"
   ]
  },
  {
   "cell_type": "markdown",
   "id": "5670ec4b",
   "metadata": {},
   "source": [
    "### Words Stemming"
   ]
  },
  {
   "cell_type": "code",
   "execution_count": 14,
   "id": "b679005f",
   "metadata": {},
   "outputs": [],
   "source": [
    "stemdf = textdf.copy()\n",
    "from nltk.stem import SnowballStemmer, PorterStemmer"
   ]
  },
  {
   "cell_type": "code",
   "execution_count": 15,
   "id": "43d29896",
   "metadata": {},
   "outputs": [
    {
     "data": {
      "text/html": [
       "<div>\n",
       "<style scoped>\n",
       "    .dataframe tbody tr th:only-of-type {\n",
       "        vertical-align: middle;\n",
       "    }\n",
       "\n",
       "    .dataframe tbody tr th {\n",
       "        vertical-align: top;\n",
       "    }\n",
       "\n",
       "    .dataframe thead th {\n",
       "        text-align: right;\n",
       "    }\n",
       "</style>\n",
       "<table border=\"1\" class=\"dataframe\">\n",
       "  <thead>\n",
       "    <tr style=\"text-align: right;\">\n",
       "      <th></th>\n",
       "      <th>review</th>\n",
       "      <th>sentiment</th>\n",
       "      <th>snowball</th>\n",
       "      <th>porter</th>\n",
       "    </tr>\n",
       "  </thead>\n",
       "  <tbody>\n",
       "    <tr>\n",
       "      <th>0</th>\n",
       "      <td>[one, reviewers, mentioned, watching, 1, oz, e...</td>\n",
       "      <td>positive</td>\n",
       "      <td>[one, review, mention, watch, 1, oz, episod, y...</td>\n",
       "      <td>[one, review, mention, watch, 1, oz, episod, y...</td>\n",
       "    </tr>\n",
       "    <tr>\n",
       "      <th>1</th>\n",
       "      <td>[wonderful, little, production, ., br, br, fil...</td>\n",
       "      <td>positive</td>\n",
       "      <td>[wonder, littl, product, ., br, br, film, tech...</td>\n",
       "      <td>[wonder, littl, product, ., br, br, film, tech...</td>\n",
       "    </tr>\n",
       "    <tr>\n",
       "      <th>2</th>\n",
       "      <td>[thought, wonderful, way, spend, time, hot, su...</td>\n",
       "      <td>positive</td>\n",
       "      <td>[thought, wonder, way, spend, time, hot, summe...</td>\n",
       "      <td>[thought, wonder, way, spend, time, hot, summe...</td>\n",
       "    </tr>\n",
       "    <tr>\n",
       "      <th>3</th>\n",
       "      <td>[basically, theres, family, little, boy, jake,...</td>\n",
       "      <td>negative</td>\n",
       "      <td>[basic, there, famili, littl, boy, jake, think...</td>\n",
       "      <td>[basic, there, famili, littl, boy, jake, think...</td>\n",
       "    </tr>\n",
       "    <tr>\n",
       "      <th>4</th>\n",
       "      <td>[petter, matteis, love, time, money, visually,...</td>\n",
       "      <td>positive</td>\n",
       "      <td>[petter, mattei, love, time, money, visual, st...</td>\n",
       "      <td>[petter, mattei, love, time, money, visual, st...</td>\n",
       "    </tr>\n",
       "    <tr>\n",
       "      <th>...</th>\n",
       "      <td>...</td>\n",
       "      <td>...</td>\n",
       "      <td>...</td>\n",
       "      <td>...</td>\n",
       "    </tr>\n",
       "    <tr>\n",
       "      <th>9995</th>\n",
       "      <td>[fun, entertaining, movie, wwii, german, spy, ...</td>\n",
       "      <td>positive</td>\n",
       "      <td>[fun, entertain, movi, wwii, german, spi, juli...</td>\n",
       "      <td>[fun, entertain, movi, wwii, german, spi, juli...</td>\n",
       "    </tr>\n",
       "    <tr>\n",
       "      <th>9996</th>\n",
       "      <td>[give, break, ., anyone, say, good, hockey, mo...</td>\n",
       "      <td>negative</td>\n",
       "      <td>[give, break, ., anyon, say, good, hockey, mov...</td>\n",
       "      <td>[give, break, ., anyon, say, good, hockey, mov...</td>\n",
       "    </tr>\n",
       "    <tr>\n",
       "      <th>9997</th>\n",
       "      <td>[movie, bad, movie, ., watching, endless, seri...</td>\n",
       "      <td>negative</td>\n",
       "      <td>[movi, bad, movi, ., watch, endless, seri, bad...</td>\n",
       "      <td>[movi, bad, movi, ., watch, endless, seri, bad...</td>\n",
       "    </tr>\n",
       "    <tr>\n",
       "      <th>9998</th>\n",
       "      <td>[movie, probably, made, entertain, middle, sch...</td>\n",
       "      <td>negative</td>\n",
       "      <td>[movi, probabl, made, entertain, middl, school...</td>\n",
       "      <td>[movi, probabl, made, entertain, middl, school...</td>\n",
       "    </tr>\n",
       "    <tr>\n",
       "      <th>9999</th>\n",
       "      <td>[smashing, film, film-making, ., shows, intens...</td>\n",
       "      <td>positive</td>\n",
       "      <td>[smash, film, film-mak, ., show, intens, stran...</td>\n",
       "      <td>[smash, film, film-mak, ., show, intens, stran...</td>\n",
       "    </tr>\n",
       "  </tbody>\n",
       "</table>\n",
       "<p>10000 rows × 4 columns</p>\n",
       "</div>"
      ],
      "text/plain": [
       "                                                 review sentiment  \\\n",
       "0     [one, reviewers, mentioned, watching, 1, oz, e...  positive   \n",
       "1     [wonderful, little, production, ., br, br, fil...  positive   \n",
       "2     [thought, wonderful, way, spend, time, hot, su...  positive   \n",
       "3     [basically, theres, family, little, boy, jake,...  negative   \n",
       "4     [petter, matteis, love, time, money, visually,...  positive   \n",
       "...                                                 ...       ...   \n",
       "9995  [fun, entertaining, movie, wwii, german, spy, ...  positive   \n",
       "9996  [give, break, ., anyone, say, good, hockey, mo...  negative   \n",
       "9997  [movie, bad, movie, ., watching, endless, seri...  negative   \n",
       "9998  [movie, probably, made, entertain, middle, sch...  negative   \n",
       "9999  [smashing, film, film-making, ., shows, intens...  positive   \n",
       "\n",
       "                                               snowball  \\\n",
       "0     [one, review, mention, watch, 1, oz, episod, y...   \n",
       "1     [wonder, littl, product, ., br, br, film, tech...   \n",
       "2     [thought, wonder, way, spend, time, hot, summe...   \n",
       "3     [basic, there, famili, littl, boy, jake, think...   \n",
       "4     [petter, mattei, love, time, money, visual, st...   \n",
       "...                                                 ...   \n",
       "9995  [fun, entertain, movi, wwii, german, spi, juli...   \n",
       "9996  [give, break, ., anyon, say, good, hockey, mov...   \n",
       "9997  [movi, bad, movi, ., watch, endless, seri, bad...   \n",
       "9998  [movi, probabl, made, entertain, middl, school...   \n",
       "9999  [smash, film, film-mak, ., show, intens, stran...   \n",
       "\n",
       "                                                 porter  \n",
       "0     [one, review, mention, watch, 1, oz, episod, y...  \n",
       "1     [wonder, littl, product, ., br, br, film, tech...  \n",
       "2     [thought, wonder, way, spend, time, hot, summe...  \n",
       "3     [basic, there, famili, littl, boy, jake, think...  \n",
       "4     [petter, mattei, love, time, money, visual, st...  \n",
       "...                                                 ...  \n",
       "9995  [fun, entertain, movi, wwii, german, spi, juli...  \n",
       "9996  [give, break, ., anyon, say, good, hockey, mov...  \n",
       "9997  [movi, bad, movi, ., watch, endless, seri, bad...  \n",
       "9998  [movi, probabl, made, entertain, middl, school...  \n",
       "9999  [smash, film, film-mak, ., show, intens, stran...  \n",
       "\n",
       "[10000 rows x 4 columns]"
      ]
     },
     "execution_count": 15,
     "metadata": {},
     "output_type": "execute_result"
    }
   ],
   "source": [
    "#Snowball Method\n",
    "snowball_stemmer = SnowballStemmer('english')\n",
    "stemdf['snowball'] = stemdf['review'].apply(lambda x: [snowball_stemmer.stem(word) for word in x])\n",
    "\n",
    "#Porter Method\n",
    "porter_stemmer = PorterStemmer()\n",
    "stemdf['porter'] = stemdf['review'].apply(lambda x: [porter_stemmer.stem(word) for word in x])\n",
    "stemdf"
   ]
  },
  {
   "cell_type": "markdown",
   "id": "e434b5ae",
   "metadata": {},
   "source": [
    "### WORD LEMMATIZATION"
   ]
  },
  {
   "cell_type": "code",
   "execution_count": 16,
   "id": "54b4418b",
   "metadata": {
    "scrolled": true
   },
   "outputs": [
    {
     "name": "stderr",
     "output_type": "stream",
     "text": [
      "[nltk_data] Downloading package wordnet to\n",
      "[nltk_data]     C:\\Users\\Student\\AppData\\Roaming\\nltk_data...\n",
      "[nltk_data]   Package wordnet is already up-to-date!\n"
     ]
    }
   ],
   "source": [
    "nltk.download('wordnet')\n",
    "from nltk.stem import WordNetLemmatizer"
   ]
  },
  {
   "cell_type": "code",
   "execution_count": 17,
   "id": "3b79bf01",
   "metadata": {
    "scrolled": true
   },
   "outputs": [
    {
     "data": {
      "text/html": [
       "<div>\n",
       "<style scoped>\n",
       "    .dataframe tbody tr th:only-of-type {\n",
       "        vertical-align: middle;\n",
       "    }\n",
       "\n",
       "    .dataframe tbody tr th {\n",
       "        vertical-align: top;\n",
       "    }\n",
       "\n",
       "    .dataframe thead th {\n",
       "        text-align: right;\n",
       "    }\n",
       "</style>\n",
       "<table border=\"1\" class=\"dataframe\">\n",
       "  <thead>\n",
       "    <tr style=\"text-align: right;\">\n",
       "      <th></th>\n",
       "      <th>review</th>\n",
       "      <th>sentiment</th>\n",
       "    </tr>\n",
       "  </thead>\n",
       "  <tbody>\n",
       "    <tr>\n",
       "      <th>0</th>\n",
       "      <td>one reviewer mentioned watching 1 oz episode y...</td>\n",
       "      <td>positive</td>\n",
       "    </tr>\n",
       "    <tr>\n",
       "      <th>1</th>\n",
       "      <td>wonderful little production . br br filming te...</td>\n",
       "      <td>positive</td>\n",
       "    </tr>\n",
       "    <tr>\n",
       "      <th>2</th>\n",
       "      <td>thought wonderful way spend time hot summer we...</td>\n",
       "      <td>positive</td>\n",
       "    </tr>\n",
       "    <tr>\n",
       "      <th>3</th>\n",
       "      <td>basically there family little boy jake think t...</td>\n",
       "      <td>negative</td>\n",
       "    </tr>\n",
       "    <tr>\n",
       "      <th>4</th>\n",
       "      <td>petter matteis love time money visually stunni...</td>\n",
       "      <td>positive</td>\n",
       "    </tr>\n",
       "  </tbody>\n",
       "</table>\n",
       "</div>"
      ],
      "text/plain": [
       "                                              review sentiment\n",
       "0  one reviewer mentioned watching 1 oz episode y...  positive\n",
       "1  wonderful little production . br br filming te...  positive\n",
       "2  thought wonderful way spend time hot summer we...  positive\n",
       "3  basically there family little boy jake think t...  negative\n",
       "4  petter matteis love time money visually stunni...  positive"
      ]
     },
     "execution_count": 17,
     "metadata": {},
     "output_type": "execute_result"
    }
   ],
   "source": [
    "WNL = WordNetLemmatizer()\n",
    "\n",
    "textdf['review'] = textdf['review'].apply(lambda tokens:' '.join([WNL.lemmatize(word) for word in tokens]))\n",
    "textdf"
   ]
  },
  {
   "cell_type": "markdown",
   "id": "f8d42267",
   "metadata": {},
   "source": [
    "### TEXT NORMALIZATION (Vectorization)"
   ]
  },
  {
   "cell_type": "code",
   "execution_count": 21,
   "id": "b9d22d2f",
   "metadata": {
    "scrolled": true
   },
   "outputs": [
    {
     "name": "stdout",
     "output_type": "stream",
     "text": [
      "<class 'scipy.sparse.csr.csr_matrix'> (10000, 54431)\n",
      "['00' '000' '0000110' ... 'über' 'überwoman' 'ünfaithful']\n"
     ]
    },
    {
     "data": {
      "text/html": [
       "<div>\n",
       "<style scoped>\n",
       "    .dataframe tbody tr th:only-of-type {\n",
       "        vertical-align: middle;\n",
       "    }\n",
       "\n",
       "    .dataframe tbody tr th {\n",
       "        vertical-align: top;\n",
       "    }\n",
       "\n",
       "    .dataframe thead th {\n",
       "        text-align: right;\n",
       "    }\n",
       "</style>\n",
       "<table border=\"1\" class=\"dataframe\">\n",
       "  <thead>\n",
       "    <tr style=\"text-align: right;\">\n",
       "      <th></th>\n",
       "      <th>00</th>\n",
       "      <th>000</th>\n",
       "      <th>0000110</th>\n",
       "      <th>0069</th>\n",
       "      <th>007</th>\n",
       "      <th>007s</th>\n",
       "      <th>00am</th>\n",
       "      <th>00s</th>\n",
       "      <th>01</th>\n",
       "      <th>010</th>\n",
       "      <th>...</th>\n",
       "      <th>étc</th>\n",
       "      <th>être</th>\n",
       "      <th>ís</th>\n",
       "      <th>ísnt</th>\n",
       "      <th>ïn</th>\n",
       "      <th>óli</th>\n",
       "      <th>önsjön</th>\n",
       "      <th>über</th>\n",
       "      <th>überwoman</th>\n",
       "      <th>ünfaithful</th>\n",
       "    </tr>\n",
       "  </thead>\n",
       "  <tbody>\n",
       "    <tr>\n",
       "      <th>0</th>\n",
       "      <td>0.0</td>\n",
       "      <td>0.0</td>\n",
       "      <td>0.0</td>\n",
       "      <td>0.0</td>\n",
       "      <td>0.0</td>\n",
       "      <td>0.0</td>\n",
       "      <td>0.0</td>\n",
       "      <td>0.0</td>\n",
       "      <td>0.0</td>\n",
       "      <td>0.0</td>\n",
       "      <td>...</td>\n",
       "      <td>0.0</td>\n",
       "      <td>0.0</td>\n",
       "      <td>0.0</td>\n",
       "      <td>0.0</td>\n",
       "      <td>0.0</td>\n",
       "      <td>0.0</td>\n",
       "      <td>0.0</td>\n",
       "      <td>0.0</td>\n",
       "      <td>0.0</td>\n",
       "      <td>0.0</td>\n",
       "    </tr>\n",
       "    <tr>\n",
       "      <th>1</th>\n",
       "      <td>0.0</td>\n",
       "      <td>0.0</td>\n",
       "      <td>0.0</td>\n",
       "      <td>0.0</td>\n",
       "      <td>0.0</td>\n",
       "      <td>0.0</td>\n",
       "      <td>0.0</td>\n",
       "      <td>0.0</td>\n",
       "      <td>0.0</td>\n",
       "      <td>0.0</td>\n",
       "      <td>...</td>\n",
       "      <td>0.0</td>\n",
       "      <td>0.0</td>\n",
       "      <td>0.0</td>\n",
       "      <td>0.0</td>\n",
       "      <td>0.0</td>\n",
       "      <td>0.0</td>\n",
       "      <td>0.0</td>\n",
       "      <td>0.0</td>\n",
       "      <td>0.0</td>\n",
       "      <td>0.0</td>\n",
       "    </tr>\n",
       "    <tr>\n",
       "      <th>2</th>\n",
       "      <td>0.0</td>\n",
       "      <td>0.0</td>\n",
       "      <td>0.0</td>\n",
       "      <td>0.0</td>\n",
       "      <td>0.0</td>\n",
       "      <td>0.0</td>\n",
       "      <td>0.0</td>\n",
       "      <td>0.0</td>\n",
       "      <td>0.0</td>\n",
       "      <td>0.0</td>\n",
       "      <td>...</td>\n",
       "      <td>0.0</td>\n",
       "      <td>0.0</td>\n",
       "      <td>0.0</td>\n",
       "      <td>0.0</td>\n",
       "      <td>0.0</td>\n",
       "      <td>0.0</td>\n",
       "      <td>0.0</td>\n",
       "      <td>0.0</td>\n",
       "      <td>0.0</td>\n",
       "      <td>0.0</td>\n",
       "    </tr>\n",
       "    <tr>\n",
       "      <th>3</th>\n",
       "      <td>0.0</td>\n",
       "      <td>0.0</td>\n",
       "      <td>0.0</td>\n",
       "      <td>0.0</td>\n",
       "      <td>0.0</td>\n",
       "      <td>0.0</td>\n",
       "      <td>0.0</td>\n",
       "      <td>0.0</td>\n",
       "      <td>0.0</td>\n",
       "      <td>0.0</td>\n",
       "      <td>...</td>\n",
       "      <td>0.0</td>\n",
       "      <td>0.0</td>\n",
       "      <td>0.0</td>\n",
       "      <td>0.0</td>\n",
       "      <td>0.0</td>\n",
       "      <td>0.0</td>\n",
       "      <td>0.0</td>\n",
       "      <td>0.0</td>\n",
       "      <td>0.0</td>\n",
       "      <td>0.0</td>\n",
       "    </tr>\n",
       "    <tr>\n",
       "      <th>4</th>\n",
       "      <td>0.0</td>\n",
       "      <td>0.0</td>\n",
       "      <td>0.0</td>\n",
       "      <td>0.0</td>\n",
       "      <td>0.0</td>\n",
       "      <td>0.0</td>\n",
       "      <td>0.0</td>\n",
       "      <td>0.0</td>\n",
       "      <td>0.0</td>\n",
       "      <td>0.0</td>\n",
       "      <td>...</td>\n",
       "      <td>0.0</td>\n",
       "      <td>0.0</td>\n",
       "      <td>0.0</td>\n",
       "      <td>0.0</td>\n",
       "      <td>0.0</td>\n",
       "      <td>0.0</td>\n",
       "      <td>0.0</td>\n",
       "      <td>0.0</td>\n",
       "      <td>0.0</td>\n",
       "      <td>0.0</td>\n",
       "    </tr>\n",
       "    <tr>\n",
       "      <th>...</th>\n",
       "      <td>...</td>\n",
       "      <td>...</td>\n",
       "      <td>...</td>\n",
       "      <td>...</td>\n",
       "      <td>...</td>\n",
       "      <td>...</td>\n",
       "      <td>...</td>\n",
       "      <td>...</td>\n",
       "      <td>...</td>\n",
       "      <td>...</td>\n",
       "      <td>...</td>\n",
       "      <td>...</td>\n",
       "      <td>...</td>\n",
       "      <td>...</td>\n",
       "      <td>...</td>\n",
       "      <td>...</td>\n",
       "      <td>...</td>\n",
       "      <td>...</td>\n",
       "      <td>...</td>\n",
       "      <td>...</td>\n",
       "      <td>...</td>\n",
       "    </tr>\n",
       "    <tr>\n",
       "      <th>9995</th>\n",
       "      <td>0.0</td>\n",
       "      <td>0.0</td>\n",
       "      <td>0.0</td>\n",
       "      <td>0.0</td>\n",
       "      <td>0.0</td>\n",
       "      <td>0.0</td>\n",
       "      <td>0.0</td>\n",
       "      <td>0.0</td>\n",
       "      <td>0.0</td>\n",
       "      <td>0.0</td>\n",
       "      <td>...</td>\n",
       "      <td>0.0</td>\n",
       "      <td>0.0</td>\n",
       "      <td>0.0</td>\n",
       "      <td>0.0</td>\n",
       "      <td>0.0</td>\n",
       "      <td>0.0</td>\n",
       "      <td>0.0</td>\n",
       "      <td>0.0</td>\n",
       "      <td>0.0</td>\n",
       "      <td>0.0</td>\n",
       "    </tr>\n",
       "    <tr>\n",
       "      <th>9996</th>\n",
       "      <td>0.0</td>\n",
       "      <td>0.0</td>\n",
       "      <td>0.0</td>\n",
       "      <td>0.0</td>\n",
       "      <td>0.0</td>\n",
       "      <td>0.0</td>\n",
       "      <td>0.0</td>\n",
       "      <td>0.0</td>\n",
       "      <td>0.0</td>\n",
       "      <td>0.0</td>\n",
       "      <td>...</td>\n",
       "      <td>0.0</td>\n",
       "      <td>0.0</td>\n",
       "      <td>0.0</td>\n",
       "      <td>0.0</td>\n",
       "      <td>0.0</td>\n",
       "      <td>0.0</td>\n",
       "      <td>0.0</td>\n",
       "      <td>0.0</td>\n",
       "      <td>0.0</td>\n",
       "      <td>0.0</td>\n",
       "    </tr>\n",
       "    <tr>\n",
       "      <th>9997</th>\n",
       "      <td>0.0</td>\n",
       "      <td>0.0</td>\n",
       "      <td>0.0</td>\n",
       "      <td>0.0</td>\n",
       "      <td>0.0</td>\n",
       "      <td>0.0</td>\n",
       "      <td>0.0</td>\n",
       "      <td>0.0</td>\n",
       "      <td>0.0</td>\n",
       "      <td>0.0</td>\n",
       "      <td>...</td>\n",
       "      <td>0.0</td>\n",
       "      <td>0.0</td>\n",
       "      <td>0.0</td>\n",
       "      <td>0.0</td>\n",
       "      <td>0.0</td>\n",
       "      <td>0.0</td>\n",
       "      <td>0.0</td>\n",
       "      <td>0.0</td>\n",
       "      <td>0.0</td>\n",
       "      <td>0.0</td>\n",
       "    </tr>\n",
       "    <tr>\n",
       "      <th>9998</th>\n",
       "      <td>0.0</td>\n",
       "      <td>0.0</td>\n",
       "      <td>0.0</td>\n",
       "      <td>0.0</td>\n",
       "      <td>0.0</td>\n",
       "      <td>0.0</td>\n",
       "      <td>0.0</td>\n",
       "      <td>0.0</td>\n",
       "      <td>0.0</td>\n",
       "      <td>0.0</td>\n",
       "      <td>...</td>\n",
       "      <td>0.0</td>\n",
       "      <td>0.0</td>\n",
       "      <td>0.0</td>\n",
       "      <td>0.0</td>\n",
       "      <td>0.0</td>\n",
       "      <td>0.0</td>\n",
       "      <td>0.0</td>\n",
       "      <td>0.0</td>\n",
       "      <td>0.0</td>\n",
       "      <td>0.0</td>\n",
       "    </tr>\n",
       "    <tr>\n",
       "      <th>9999</th>\n",
       "      <td>0.0</td>\n",
       "      <td>0.0</td>\n",
       "      <td>0.0</td>\n",
       "      <td>0.0</td>\n",
       "      <td>0.0</td>\n",
       "      <td>0.0</td>\n",
       "      <td>0.0</td>\n",
       "      <td>0.0</td>\n",
       "      <td>0.0</td>\n",
       "      <td>0.0</td>\n",
       "      <td>...</td>\n",
       "      <td>0.0</td>\n",
       "      <td>0.0</td>\n",
       "      <td>0.0</td>\n",
       "      <td>0.0</td>\n",
       "      <td>0.0</td>\n",
       "      <td>0.0</td>\n",
       "      <td>0.0</td>\n",
       "      <td>0.0</td>\n",
       "      <td>0.0</td>\n",
       "      <td>0.0</td>\n",
       "    </tr>\n",
       "  </tbody>\n",
       "</table>\n",
       "<p>10000 rows × 54431 columns</p>\n",
       "</div>"
      ],
      "text/plain": [
       "       00  000  0000110  0069  007  007s  00am  00s   01  010  ...  étc  être  \\\n",
       "0     0.0  0.0      0.0   0.0  0.0   0.0   0.0  0.0  0.0  0.0  ...  0.0   0.0   \n",
       "1     0.0  0.0      0.0   0.0  0.0   0.0   0.0  0.0  0.0  0.0  ...  0.0   0.0   \n",
       "2     0.0  0.0      0.0   0.0  0.0   0.0   0.0  0.0  0.0  0.0  ...  0.0   0.0   \n",
       "3     0.0  0.0      0.0   0.0  0.0   0.0   0.0  0.0  0.0  0.0  ...  0.0   0.0   \n",
       "4     0.0  0.0      0.0   0.0  0.0   0.0   0.0  0.0  0.0  0.0  ...  0.0   0.0   \n",
       "...   ...  ...      ...   ...  ...   ...   ...  ...  ...  ...  ...  ...   ...   \n",
       "9995  0.0  0.0      0.0   0.0  0.0   0.0   0.0  0.0  0.0  0.0  ...  0.0   0.0   \n",
       "9996  0.0  0.0      0.0   0.0  0.0   0.0   0.0  0.0  0.0  0.0  ...  0.0   0.0   \n",
       "9997  0.0  0.0      0.0   0.0  0.0   0.0   0.0  0.0  0.0  0.0  ...  0.0   0.0   \n",
       "9998  0.0  0.0      0.0   0.0  0.0   0.0   0.0  0.0  0.0  0.0  ...  0.0   0.0   \n",
       "9999  0.0  0.0      0.0   0.0  0.0   0.0   0.0  0.0  0.0  0.0  ...  0.0   0.0   \n",
       "\n",
       "       ís  ísnt   ïn  óli  önsjön  über  überwoman  ünfaithful  \n",
       "0     0.0   0.0  0.0  0.0     0.0   0.0        0.0         0.0  \n",
       "1     0.0   0.0  0.0  0.0     0.0   0.0        0.0         0.0  \n",
       "2     0.0   0.0  0.0  0.0     0.0   0.0        0.0         0.0  \n",
       "3     0.0   0.0  0.0  0.0     0.0   0.0        0.0         0.0  \n",
       "4     0.0   0.0  0.0  0.0     0.0   0.0        0.0         0.0  \n",
       "...   ...   ...  ...  ...     ...   ...        ...         ...  \n",
       "9995  0.0   0.0  0.0  0.0     0.0   0.0        0.0         0.0  \n",
       "9996  0.0   0.0  0.0  0.0     0.0   0.0        0.0         0.0  \n",
       "9997  0.0   0.0  0.0  0.0     0.0   0.0        0.0         0.0  \n",
       "9998  0.0   0.0  0.0  0.0     0.0   0.0        0.0         0.0  \n",
       "9999  0.0   0.0  0.0  0.0     0.0   0.0        0.0         0.0  \n",
       "\n",
       "[10000 rows x 54431 columns]"
      ]
     },
     "execution_count": 21,
     "metadata": {},
     "output_type": "execute_result"
    }
   ],
   "source": [
    "normalizedf = textdf.copy()\n",
    "from sklearn.feature_extraction.text import TfidfVectorizer\n",
    "\n",
    "tf_idf = TfidfVectorizer()\n",
    "tf_idf_vector = tf_idf.fit_transform(normalizedf['review']) \n",
    "\n",
    "print(type(tf_idf_vector), tf_idf_vector.shape)\n",
    "\n",
    "tf_idf_array = tf_idf_vector.toarray()\n",
    "words_set = tf_idf.get_feature_names_out()\n",
    "\n",
    "print(words_set)\n",
    "\n",
    "df_tf_idf = pd.DataFrame(tf_idf_array, columns=words_set)\n",
    "df_tf_idf"
   ]
  },
  {
   "cell_type": "markdown",
   "id": "8c4cce4d",
   "metadata": {},
   "source": [
    "### TEXT CLASSIFICATION"
   ]
  },
  {
   "cell_type": "code",
   "execution_count": 22,
   "id": "2f4626cd",
   "metadata": {},
   "outputs": [],
   "source": [
    "from sklearn.model_selection import train_test_split\n",
    "from sklearn.svm import SVC\n",
    "from sklearn.metrics import classification_report"
   ]
  },
  {
   "cell_type": "code",
   "execution_count": 24,
   "id": "1ef93f93",
   "metadata": {},
   "outputs": [
    {
     "name": "stdout",
     "output_type": "stream",
     "text": [
      "Classifier Report:\n",
      "              precision    recall  f1-score   support\n",
      "\n",
      "    negative       0.90      0.86      0.88       996\n",
      "    positive       0.87      0.90      0.88      1004\n",
      "\n",
      "    accuracy                           0.88      2000\n",
      "   macro avg       0.88      0.88      0.88      2000\n",
      "weighted avg       0.88      0.88      0.88      2000\n",
      "\n"
     ]
    }
   ],
   "source": [
    "# Split X and y for classifier\n",
    "X = tf_idf_vector\n",
    "y = normalizedf['sentiment']\n",
    "\n",
    "# Train test split\n",
    "X_train, X_test, y_train, y_test = train_test_split(X, y, test_size=0.2, random_state=42)\n",
    "\n",
    "# SVC Classifier\n",
    "classifier = SVC(kernel='linear')\n",
    "classifier.fit(X_train, y_train)\n",
    "\n",
    "# Evaluate the model\n",
    "y_pred = classifier.predict(X_test)\n",
    "print('Classifier Report:')\n",
    "print(classification_report(y_test, y_pred))"
   ]
  },
  {
   "cell_type": "markdown",
   "id": "d2127cb0",
   "metadata": {
    "id": "d2127cb0"
   },
   "source": [
    "----"
   ]
  },
  {
   "cell_type": "markdown",
   "id": "69b7f628",
   "metadata": {
    "id": "69b7f628"
   },
   "source": [
    "## <div align=\"center\"> Conclusion </div>"
   ]
  },
  {
   "cell_type": "markdown",
   "id": "b7ecf70d",
   "metadata": {
    "id": "b7ecf70d"
   },
   "source": [
    "### Enter Your Conclusion Here:"
   ]
  },
  {
   "cell_type": "markdown",
   "id": "c3b1a2b0",
   "metadata": {
    "id": "df392fe6"
   },
   "source": []
  },
  {
   "cell_type": "markdown",
   "id": "b765bf3f",
   "metadata": {
    "id": "b765bf3f"
   },
   "source": [
    "----"
   ]
  },
  {
   "cell_type": "code",
   "execution_count": 1,
   "id": "650b115b",
   "metadata": {
    "id": "650b115b"
   },
   "outputs": [],
   "source": [
    "studentName2 = \"Evangeline Suciadi\"\n",
    "studentNIM2 = \"68887\"\n",
    "studentClass2 = \"BL\""
   ]
  },
  {
   "cell_type": "code",
   "execution_count": 2,
   "id": "40f84526",
   "metadata": {
    "colab": {
     "base_uri": "https://localhost:8080/"
    },
    "id": "40f84526",
    "outputId": "a6550af7-6b2d-45e7-ae01-c5893670c7de"
   },
   "outputs": [
    {
     "name": "stdout",
     "output_type": "stream",
     "text": [
      "Name: \t\tEvangeline Suciadi\n",
      "NIM: \t\t68887\n",
      "Class: \t\tBL\n"
     ]
    },
    {
     "ename": "NameError",
     "evalue": "name 'myDate' is not defined",
     "output_type": "error",
     "traceback": [
      "\u001b[1;31m---------------------------------------------------------------------------\u001b[0m",
      "\u001b[1;31mNameError\u001b[0m                                 Traceback (most recent call last)",
      "\u001b[1;32m~\\AppData\\Local\\Temp\\ipykernel_30468\\3064274539.py\u001b[0m in \u001b[0;36m<module>\u001b[1;34m\u001b[0m\n\u001b[0;32m      2\u001b[0m \u001b[0mprint\u001b[0m\u001b[1;33m(\u001b[0m\u001b[1;34m\"NIM: \\t\\t{}\"\u001b[0m\u001b[1;33m.\u001b[0m\u001b[0mformat\u001b[0m\u001b[1;33m(\u001b[0m\u001b[0mstudentNIM2\u001b[0m\u001b[1;33m)\u001b[0m\u001b[1;33m)\u001b[0m\u001b[1;33m\u001b[0m\u001b[1;33m\u001b[0m\u001b[0m\n\u001b[0;32m      3\u001b[0m \u001b[0mprint\u001b[0m\u001b[1;33m(\u001b[0m\u001b[1;34m\"Class: \\t\\t{}\"\u001b[0m\u001b[1;33m.\u001b[0m\u001b[0mformat\u001b[0m\u001b[1;33m(\u001b[0m\u001b[0mstudentClass2\u001b[0m\u001b[1;33m)\u001b[0m\u001b[1;33m)\u001b[0m\u001b[1;33m\u001b[0m\u001b[1;33m\u001b[0m\u001b[0m\n\u001b[1;32m----> 4\u001b[1;33m \u001b[0mprint\u001b[0m\u001b[1;33m(\u001b[0m\u001b[1;34m\"End: \\t\\t{}\"\u001b[0m\u001b[1;33m.\u001b[0m\u001b[0mformat\u001b[0m\u001b[1;33m(\u001b[0m\u001b[0mmyDate\u001b[0m\u001b[1;33m)\u001b[0m\u001b[1;33m)\u001b[0m\u001b[1;33m\u001b[0m\u001b[1;33m\u001b[0m\u001b[0m\n\u001b[0m\u001b[0;32m      5\u001b[0m \u001b[0mprint\u001b[0m\u001b[1;33m(\u001b[0m\u001b[1;34m\"Device ID: \\t{}\"\u001b[0m\u001b[1;33m.\u001b[0m\u001b[0mformat\u001b[0m\u001b[1;33m(\u001b[0m\u001b[0mmyDevice\u001b[0m\u001b[1;33m)\u001b[0m\u001b[1;33m)\u001b[0m\u001b[1;33m\u001b[0m\u001b[1;33m\u001b[0m\u001b[0m\n",
      "\u001b[1;31mNameError\u001b[0m: name 'myDate' is not defined"
     ]
    }
   ],
   "source": [
    "print(\"Name: \\t\\t{}\".format(studentName2))\n",
    "print(\"NIM: \\t\\t{}\".format(studentNIM2))\n",
    "print(\"Class: \\t\\t{}\".format(studentClass2))\n",
    "print(\"End: \\t\\t{}\".format(myDate))\n",
    "print(\"Device ID: \\t{}\".format(myDevice))"
   ]
  },
  {
   "cell_type": "markdown",
   "id": "14310678",
   "metadata": {
    "id": "14310678"
   },
   "source": [
    "----"
   ]
  },
  {
   "cell_type": "markdown",
   "id": "88210d09",
   "metadata": {
    "id": "88210d09"
   },
   "source": [
    "## <div align=\"center\"> Reference </div>"
   ]
  },
  {
   "cell_type": "markdown",
   "id": "20664996",
   "metadata": {
    "id": "20664996"
   },
   "source": [
    "### Input Your Reference Here  (Jika ada):"
   ]
  },
  {
   "cell_type": "code",
   "execution_count": null,
   "id": "5ba2ed2b",
   "metadata": {
    "id": "5ba2ed2b"
   },
   "outputs": [],
   "source": []
  },
  {
   "cell_type": "markdown",
   "id": "29050624",
   "metadata": {
    "id": "29050624"
   },
   "source": [
    "----"
   ]
  }
 ],
 "metadata": {
  "colab": {
   "provenance": []
  },
  "kernelspec": {
   "display_name": "Python 3 (ipykernel)",
   "language": "python",
   "name": "python3"
  },
  "language_info": {
   "codemirror_mode": {
    "name": "ipython",
    "version": 3
   },
   "file_extension": ".py",
   "mimetype": "text/x-python",
   "name": "python",
   "nbconvert_exporter": "python",
   "pygments_lexer": "ipython3",
   "version": "3.9.13"
  }
 },
 "nbformat": 4,
 "nbformat_minor": 5
}
